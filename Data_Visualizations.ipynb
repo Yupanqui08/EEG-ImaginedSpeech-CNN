{
 "cells": [
  {
   "cell_type": "code",
   "execution_count": null,
   "id": "3c63e5d9",
   "metadata": {},
   "outputs": [],
   "source": [
    "import os\n",
    "import numpy as np\n",
    "import mne\n",
    "import csv"
   ]
  },
  {
   "cell_type": "code",
   "execution_count": null,
   "id": "aafc8cd4",
   "metadata": {},
   "outputs": [],
   "source": [
    "#raw = mne.io.read_raw_csv(thinking.csv)\n",
    "with open('thinking.csv') as csv_file:\n",
    "    csv_reader = csv.reader(csv_file, delimiter=',')\n",
    "    line_count = 0\n",
    "    for row in csv_reader:\n",
    "        if line_count == 0:\n",
    "            print(f'Column names are {\", \".join(row)}')\n",
    "            line_count +=1\n",
    "        else:\n",
    "            print(f'\\t{row[0]} is from epoch {row[1]} and the voltage is {row[2]}.')\n",
    "            line_count += 1\n",
    "    print(f'Processed{line_count} lines.')"
   ]
  },
  {
   "cell_type": "code",
   "execution_count": null,
   "id": "981a0b88",
   "metadata": {},
   "outputs": [],
   "source": [
    "import pandas as pd\n",
    "pd.set_option('max_rows', 5)\n",
    "import numpy as np\n",
    "reviews = pd.read_csv(\"thinking.csv\", index_col = 0)\n",
    "reviews"
   ]
  },
  {
   "cell_type": "code",
   "execution_count": null,
   "id": "334c45ab",
   "metadata": {},
   "outputs": [],
   "source": [
    "#sUsing Kaggle Data Visualization\n",
    "import pandas as pd\n",
    "pd.plotting.register_matplotlib_converters()\n",
    "import matplotlib.pyplot as plt\n",
    "%matplotlib inline\n",
    "import seaborn as sns\n",
    "print(\"setup complete\")\n",
    "\n",
    "my_thinking=pd.read_csv('thinking.csv')\n",
    "\n",
    "#Graph shows amount of times each voltage is recorded in FC5 channel\n",
    "sns.displot(data=my_thinking['FC5'], kde=False)"
   ]
  },
  {
   "cell_type": "code",
   "execution_count": null,
   "id": "cb77e21d",
   "metadata": {},
   "outputs": [],
   "source": [
    "#Graph shows amount of times each voltage is recorded in P8 channel\n",
    "sns.displot(data=my_thinking['P8'], kde=False)"
   ]
  },
  {
   "cell_type": "code",
   "execution_count": null,
   "id": "1afb6913",
   "metadata": {
    "scrolled": true
   },
   "outputs": [],
   "source": [
    "#Data Visualization Scatter Plot\n",
    "sns.scatterplot(x=my_thinking['F3'], y=my_thinking['T7'])"
   ]
  },
  {
   "cell_type": "code",
   "execution_count": null,
   "id": "9672f9be",
   "metadata": {},
   "outputs": [],
   "source": [
    "sns.scatterplot(x=my_thinking['O1'], y=my_thinking['FC5'])"
   ]
  },
  {
   "cell_type": "code",
   "execution_count": null,
   "id": "438dd80e",
   "metadata": {},
   "outputs": [],
   "source": [
    "sns.lineplot(x=my_thinking['Time:256Hz'], y=my_thinking['F3'])"
   ]
  },
  {
   "cell_type": "code",
   "execution_count": null,
   "id": "46718c70",
   "metadata": {},
   "outputs": [],
   "source": [
    "my_plot = sns.lineplot(x=my_thinking['Time:256Hz'], y=my_thinking['AF3'])\n",
    "my_plot.set_xlim(0,3000)\n",
    "#my_plot.set_ylim(9000)\n",
    "plt.show()"
   ]
  },
  {
   "cell_type": "code",
   "execution_count": null,
   "id": "943cd954",
   "metadata": {},
   "outputs": [],
   "source": [
    "fig, ax = plt.subplots()\n",
    "sns.distplot(my_thinking, ax=ax)\n",
    "ax.set_xlim"
   ]
  },
  {
   "cell_type": "code",
   "execution_count": null,
   "id": "b6b2f41c",
   "metadata": {},
   "outputs": [],
   "source": [
    "#thinking_multigraph = sns.load_dataset('thinking.csv')\n",
    "g = sns.PairGrid(my_thinking)\n",
    "g.map(sns.scatterplot)"
   ]
  },
  {
   "cell_type": "code",
   "execution_count": null,
   "id": "a4215def",
   "metadata": {},
   "outputs": [],
   "source": [
    "g=sns.PairGrid(my_thinking)\n",
    "g.map_diag(sns.histplot)\n",
    "g.map_offdiag(sns.scatterplot)"
   ]
  },
  {
   "cell_type": "code",
   "execution_count": null,
   "id": "b0225cc4",
   "metadata": {
    "scrolled": true
   },
   "outputs": [],
   "source": [
    "import wave\n",
    "from pydub import AudioSegment\n",
    "myWaveData = AudioSegment.from_wav('thought.wav')\n",
    "\n",
    "raw_audio = myWaveData._data\n",
    "print(raw_audio)\n"
   ]
  },
  {
   "cell_type": "code",
   "execution_count": null,
   "id": "0d1bb655",
   "metadata": {},
   "outputs": [],
   "source": [
    "import mne.io\n",
    "import mne\n",
    "from numpy import genfromtxt\n",
    "#Edit csv data\n",
    "import pandas as pd\n",
    "df = pd.read_csv('thinking.csv')\n",
    "df.to_csv('copy_thinking.csv')\n",
    "copy_thinking = pd.read_csv('copy_thinking.csv', index_col=0, low_memory=False)\n",
    "#Drop rows from copy_thinking.csv\n",
    "copy_thinking=copy_thinking.drop(columns=copy_thinking.columns[16], axis=1)\n",
    "copy_thinking=copy_thinking.drop(columns=copy_thinking.columns[17], axis=1)\n",
    "copy_thinking=copy_thinking.drop(columns='Stage')\n",
    "copy_thinking=copy_thinking.drop(columns='Epoch')\n",
    "copy_thinking=copy_thinking.set_index('Time:256Hz')\n",
    "#copy_thinking.head()\n",
    "\n",
    "copy_thinking.to_csv('csv_copy_thinking.csv')\n",
    "pd.read_csv('csv_copy_thinking.csv', header=None, index_col=0).T.to_csv('readyThinking.csv', header=False, index=False)\n",
    "\n",
    "#readyThinking = pd.read_csv('readyThinking.csv', low_memory=False)\n",
    "#readyThinking.head()\n",
    "#Convert csv file to RawArray\n",
    "myData = genfromtxt('readyThinking.csv', delimiter=',')\n",
    "ch_names = ['F3', 'FC5', 'AF3', 'F7', 'T7', 'P7', 'O1', 'O2', 'P8', 'T8', 'F8', 'AF4', 'FC6', 'F4']\n",
    "sfreq = 256\n",
    "ch_types=['eeg']*14\n",
    "montage = mne.channels.make_standard_montage('standard_1020')\n",
    "info = mne.create_info(ch_names, sfreq, ch_types)\n",
    "info.set_montage('standard_1020', match_case=False)\n",
    "thinkingArray = mne.io.RawArray(myData, info)\n",
    "\n",
    "\n"
   ]
  },
  {
   "cell_type": "code",
   "execution_count": null,
   "id": "35258e6f",
   "metadata": {
    "scrolled": true
   },
   "outputs": [],
   "source": [
    "import os\n",
    "#raw = mne.io.read_raw('thinkingArray')\n",
    "\n",
    "print(thinkingArray.info)"
   ]
  },
  {
   "cell_type": "code",
   "execution_count": null,
   "id": "61672721",
   "metadata": {},
   "outputs": [],
   "source": [
    "thinkingArray.plot_psd(fmax=50)\n",
    "thinkingArray.plot(duration=10, n_channels=14)"
   ]
  },
  {
   "cell_type": "code",
   "execution_count": null,
   "id": "b19fd57b",
   "metadata": {},
   "outputs": [],
   "source": [
    "thinkingArray.plot_psd(average=True)"
   ]
  },
  {
   "cell_type": "code",
   "execution_count": null,
   "id": "21e439e2",
   "metadata": {
    "scrolled": true
   },
   "outputs": [],
   "source": [
    "#Choose what channels to plot: power spectral density plot\n",
    "right_side='AF4', 'F8', 'F4', 'FC6', 'T8', 'P8', 'O2'\n",
    "left_side='AF3', 'F3', 'F7', 'FC5', 'T7', 'P7', 'O1'\n",
    "thinkingArray.plot_psd(picks=right_side)\n",
    "thinkingArray.plot_psd(picks=left_side)"
   ]
  },
  {
   "cell_type": "code",
   "execution_count": null,
   "id": "c5a5a32d",
   "metadata": {
    "scrolled": true
   },
   "outputs": [],
   "source": [
    "#Plot PSD for every sensor on its own axis arranged \n",
    "#spatially to correspond to sensor locations in space\n",
    "thinkingArray.plot_psd_topo()"
   ]
  },
  {
   "cell_type": "code",
   "execution_count": null,
   "id": "18670480",
   "metadata": {
    "scrolled": true
   },
   "outputs": [],
   "source": [
    "thinkingArray.plot_sensors()"
   ]
  },
  {
   "cell_type": "code",
   "execution_count": null,
   "id": "9a2b602c",
   "metadata": {},
   "outputs": [],
   "source": [
    "ten_twenty_montage = mne.channels.make_standard_montage('standard_1020')\n",
    "print(ten_twenty_montage)"
   ]
  },
  {
   "cell_type": "code",
   "execution_count": null,
   "id": "aa230b2d",
   "metadata": {},
   "outputs": [],
   "source": [
    "fig = ten_twenty_montage.plot(kind='3d')\n",
    "fig.gca().view_init(azim=70, elev=15)\n",
    "ten_twenty_montage.plot(kind='topomap', show_names=False)"
   ]
  },
  {
   "cell_type": "code",
   "execution_count": null,
   "id": "4fa6ed69",
   "metadata": {
    "scrolled": true
   },
   "outputs": [],
   "source": [
    "fig = plt.figure()\n",
    "ax2d = fig.add_subplot(121)\n",
    "ax3d = fig.add_subplot(122, projection='3d')\n",
    "thinkingArray.plot_sensors(ch_type='eeg', axes=ax2d)\n",
    "thinkingArray.plot_sensors(ch_type='eeg', axes=ax3d, kind='3d')\n",
    "ax3d.view_init(azim=70, elev=15)"
   ]
  },
  {
   "cell_type": "code",
   "execution_count": null,
   "id": "ec5b97e5",
   "metadata": {},
   "outputs": [],
   "source": [
    "#ica=mne.preprocessing.ICA(n_components=10, random_state=97, max_iter=800)\n",
    "#ica.fit(thinkingArray)\n",
    "#ica.plot_properties(thiinkingArray, picks=ica.exclude)"
   ]
  },
  {
   "cell_type": "code",
   "execution_count": null,
   "id": "075c63c8",
   "metadata": {},
   "outputs": [],
   "source": [
    "#events=mne.find_events(thinkingArray, stim_channel='F3')\n",
    "#print(events[:5])"
   ]
  },
  {
   "cell_type": "code",
   "execution_count": null,
   "id": "3d3e545d",
   "metadata": {},
   "outputs": [],
   "source": [
    "#import numpy as np\n",
    "\n",
    "#frequencies=np.arange(7, 30, 3)\n",
    "#power=mne.time_frequency.tfr_morlet(aud_epochs, n_cycles=2, return_itc=False, freq=frequencies, decim=3)\n",
    "#power.plot(['F3'])"
   ]
  },
  {
   "cell_type": "code",
   "execution_count": null,
   "id": "a2c3c74c",
   "metadata": {
    "scrolled": false
   },
   "outputs": [],
   "source": [
    "#Copy original csv\n",
    "dataf = pd.read_csv('thinking.csv')\n",
    "dataf.to_csv('copy2_thinking.csv')\n",
    "copy2_thinking = pd.read_csv('copy2_thinking.csv')\n",
    "\n",
    "#Select epoch 0\n",
    "epoch0 = copy2_thinking.loc[copy2_thinking.Epoch==0]\n",
    "epoch0.head()\n",
    "\n",
    "#Plot max of individual channels in epoch 0\n",
    "\n",
    "\n",
    "#Create series with max value for each channel\n",
    "F3column = copy2_thinking['F3']\n",
    "FC5column = copy2_thinking['FC5']\n",
    "AF3column = copy2_thinking['AF3']\n",
    "F7column = copy2_thinking['F7']\n",
    "T7column = copy2_thinking['T7']\n",
    "P7column = copy2_thinking['P7']\n",
    "O1column = copy2_thinking['O1']\n",
    "O2column = copy2_thinking['O2']\n",
    "P8column = copy2_thinking['P8']\n",
    "T8column = copy2_thinking['T8']\n",
    "F8column = copy2_thinking['F8']\n",
    "AF4column = copy2_thinking['AF4']\n",
    "FC6column = copy2_thinking['FC6']\n",
    "F4column = copy2_thinking['F4']\n",
    "\n",
    "max_F3 = F3column.max()\n",
    "max_FC5 = FC5column.max()\n",
    "max_AF3 = AF3column.max()\n",
    "max_F7 = F7column.max()\n",
    "max_T7 = T7column.max()\n",
    "max_P7 = P7column.max()\n",
    "max_O1 = O1column.max()\n",
    "max_O2 = O2column.max()\n",
    "max_P8 = P8column.max()\n",
    "max_T8 = T8column.max()\n",
    "max_F8 = F8column.max()\n",
    "max_AF4 = AF4column.max()\n",
    "max_FC6 = FC6column.max()\n",
    "max_F4 = F4column.max()\n",
    "\n",
    "#max_df_ep0 = pd.DataFrame({'F3':[max_F3], 'FC5':[max_FC5], 'AF3':[max_AF3], 'F7':[max_F7], \n",
    "#                          'T7':[max_T7], 'P7':[max_P7], 'O1':[max_O1], 'O2':[max_O2], \n",
    "#                          'P8':[max_P8], 'T8':[max_T8], 'F8':[max_F8], 'AF4':[max_AF4], \n",
    "#                          'FC6':[max_FC6], 'F4':[max_F4]})\n",
    "\n",
    "max_series_ep0 = pd.Series([max_F3, max_FC5, max_AF3, max_F7, max_T7, max_P7, max_O1, max_O2, \n",
    "                          max_P8, max_T8, max_F8, max_AF4, max_FC6, max_F4], \n",
    "                           index=['F3', 'FC5', 'AF3', 'F7', 'T7', 'P7', 'O1', 'O2', 'P8', 'T8',\n",
    "                           'F8', 'AF4', 'FC6', 'F4'], name='Epoch0 Channel Maxs')\n",
    "max_series_ep0.plot.line()\n"
   ]
  },
  {
   "cell_type": "code",
   "execution_count": null,
   "id": "a6fd6dab",
   "metadata": {},
   "outputs": [],
   "source": [
    "#Copy csv\n",
    "datafile = pd.read_csv('thinking.csv')\n",
    "datafile.to_csv('copy3_thinking.csv')\n",
    "copy3_thinking = pd.read_csv('copy3_thinking.csv')\n",
    "\n",
    "#Select epoch 0\n",
    "#epoch0Groups = copy2_thinking.loc[copy2_thinking.Epoch==0]\n",
    "#epoch0Groups.head()\n",
    "\n",
    "copy3_thinking[\"epoch_min\"]=(copy3_thinking.groupby('epoch')[''])"
   ]
  },
  {
   "cell_type": "code",
   "execution_count": null,
   "id": "5b45f225",
   "metadata": {},
   "outputs": [],
   "source": [
    "#Create dataframe with only rows where Label == 'goose'\n",
    "#goose should be element1\n",
    "goose_sub1 = copy2_thinking.loc[copy2_thinking.Label=='goose']\n",
    "goose_sub1.head()\n",
    "len(goose_sub1.F7)\n",
    "\n",
    "#Label='fleece'\n",
    "fleece_sub1 = copy2_thinking.loc[copy2_thinking.Label=='fleece']\n",
    "print(len(fleece_sub1))\n",
    "#Label='trap'\n",
    "trap_sub1 = copy2_thinking.loc[copy2_thinking.Label=='trap']\n",
    "\n",
    "#Label='though'\n",
    "through_sub1 = copy2_thinking.loc[copy2_thinking.Label=='though']\n",
    "\n",
    "#Label='m'\n",
    "m_sub1 = copy2_thinking.loc[copy2_thinking.Label=='m']\n",
    "\n",
    "#Label='n'\n",
    "n_sub1 = copy2_thinking.loc[copy2_thinking.Label=='n']\n",
    "\n",
    "#Label='ng'\n",
    "ng_sub1 = copy2_thinking.loc[copy2_thinking.Label=='ng']\n",
    "\n",
    "#Label='f'\n",
    "f_sub1 = copy2_thinking.loc[copy2_thinking.Label=='f']\n",
    "\n",
    "#Label='s'\n",
    "s_sub1 = copy2_thinking.loc[copy2_thinking.Label=='s']\n",
    "\n",
    "#Label='sh'\n",
    "sh_sub1 = copy2_thinking.loc[copy2_thinking.Label=='sh']\n",
    "\n",
    "#Label='v'\n",
    "v_sub1 = copy2_thinking.loc[copy2_thinking.Label=='v']\n",
    "\n",
    "#Label='z'\n",
    "z_sub1 = copy2_thinking.loc[copy2_thinking.Label=='z']\n",
    "\n",
    "#Label='zh'\n",
    "zh_sub1 = copy2_thinking.loc[copy2_thinking.Label=='zh']\n",
    "\n",
    "#Label='p'\n",
    "p_sub1 = copy2_thinking.loc[copy2_thinking.Label=='p']\n",
    "\n",
    "#Label='t'\n",
    "t_sub1 = copy2_thinking.loc[copy2_thinking.Label=='t']\n",
    "\n",
    "#Label='k'\n",
    "k_sub1 = copy2_thinking.loc[copy2_thinking.Label=='k']"
   ]
  },
  {
   "cell_type": "code",
   "execution_count": null,
   "id": "e7e1edbe",
   "metadata": {},
   "outputs": [],
   "source": []
  },
  {
   "cell_type": "code",
   "execution_count": null,
   "id": "dc3e634b",
   "metadata": {},
   "outputs": [],
   "source": []
  }
 ],
 "metadata": {
  "kernelspec": {
   "display_name": "Python 3",
   "language": "python",
   "name": "python3"
  },
  "language_info": {
   "codemirror_mode": {
    "name": "ipython",
    "version": 3
   },
   "file_extension": ".py",
   "mimetype": "text/x-python",
   "name": "python",
   "nbconvert_exporter": "python",
   "pygments_lexer": "ipython3",
   "version": "3.8.8"
  }
 },
 "nbformat": 4,
 "nbformat_minor": 5
}
