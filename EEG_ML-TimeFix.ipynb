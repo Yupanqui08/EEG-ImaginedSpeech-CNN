{
 "cells": [
  {
   "cell_type": "code",
   "execution_count": null,
   "id": "917d6897-cb6b-43ab-8618-b69880b78de9",
   "metadata": {},
   "outputs": [],
   "source": [
    "import pandas as pd\n",
    "#Creates Time column in subject x\n",
    "tempPath = './scottwellington-FEIS-7e726fd/experiments/' + '01' + '/thinking.csv'\n",
    "path_df = pd.read_csv(tempPath)\n",
    "t = 0\n",
    "length_t = 0\n",
    "path_df['Time'] = \"\"\n",
    "\n",
    "max = len(path_df)\n",
    "\n",
    "#Fills Time column with numbers 1-1280 (repeating). Each Epoch/trial will be numbered 1-1280\n",
    "while length_t<=max-1:\n",
    "    mod_t = (t%1280)+1    \n",
    "    path_df.loc[length_t,'Time'] = mod_t\n",
    "    t=t+1\n",
    "    length_t = length_t + 1"
   ]
  },
  {
   "cell_type": "code",
   "execution_count": null,
   "id": "640868c7-3b24-4d30-a7bf-8ff0080ef8f4",
   "metadata": {},
   "outputs": [],
   "source": [
    "path_df.to_csv('think_01.csv')"
   ]
  }
 ],
 "metadata": {
  "kernelspec": {
   "display_name": "Python 3 (ipykernel)",
   "language": "python",
   "name": "python3"
  },
  "language_info": {
   "codemirror_mode": {
    "name": "ipython",
    "version": 3
   },
   "file_extension": ".py",
   "mimetype": "text/x-python",
   "name": "python",
   "nbconvert_exporter": "python",
   "pygments_lexer": "ipython3",
   "version": "3.9.7"
  }
 },
 "nbformat": 4,
 "nbformat_minor": 5
}
